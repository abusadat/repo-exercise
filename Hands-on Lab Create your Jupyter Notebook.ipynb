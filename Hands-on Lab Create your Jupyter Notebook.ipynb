{
  "cells": [
    {
      "cell_type": "markdown",
      "metadata": {
        "id": "view-in-github",
        "colab_type": "text"
      },
      "source": [
        "<a href=\"https://colab.research.google.com/github/abusadat/repo-exercise/blob/main/Hands-on%20Lab%20Create%20your%20Jupyter%20Notebook.ipynb\" target=\"_parent\"><img src=\"https://colab.research.google.com/assets/colab-badge.svg\" alt=\"Open In Colab\"/></a>"
      ]
    },
    {
      "cell_type": "markdown",
      "source": [
        "# Data Science Tools and Ecosystem"
      ],
      "metadata": {
        "id": "KV3YYz1vK3tO"
      }
    },
    {
      "cell_type": "markdown",
      "source": [
        "In this notebook, Data Science Tools and Ecosystem are summarized."
      ],
      "metadata": {
        "id": "6kQhuw7HLNAp"
      }
    },
    {
      "cell_type": "markdown",
      "source": [
        "Some of the popular languages that Data Scientists use are:\n",
        "\n",
        "\n",
        "*   Python\n",
        "*   R\n",
        "*   Java\n",
        "*   C++\n",
        "\n"
      ],
      "metadata": {
        "id": "8taCCDmQLjHP"
      }
    },
    {
      "cell_type": "markdown",
      "source": [
        "Some of the commonly used libraries used by Data Scientists include:\n",
        "\n",
        "\n",
        "*   NumPy\n",
        "*   Pandas\n",
        "*   Matplotlib\n",
        "*   SciPy\n",
        "*   TensorFlow\n",
        "*   PyTorch\n",
        "\n",
        "\n"
      ],
      "metadata": {
        "id": "Au2zMRRcMDxV"
      }
    },
    {
      "cell_type": "markdown",
      "source": [
        "| Data Science Tools |\n",
        "|--------------------|\n",
        "| Python             |\n",
        "| R                  |\n",
        "| SQL                |\n",
        "| TensorFlow         |\n",
        "| Pandas             |\n",
        "| Matplotlib         |\n",
        "| Scikit-learn       |\n"
      ],
      "metadata": {
        "id": "t9__MY0CMv2t"
      }
    },
    {
      "cell_type": "markdown",
      "source": [
        "**Objectives**:\n",
        "\n",
        "\n",
        "*   List popular languages for Data Science\n"
      ],
      "metadata": {
        "id": "U8Q96i7zQovV"
      }
    },
    {
      "cell_type": "markdown",
      "source": [
        "### Below are a few examples of evaluating arithmetic expressions in Python\n",
        "\n",
        "#### 1. Addition\n",
        "```python\n",
        "a = 5\n",
        "b = 3\n",
        "result = a + b\n",
        "print(result)  # Output: 8\n",
        "\n",
        "```\n",
        "#### 2. Subtraction\n",
        "```python\n",
        "a = 10\n",
        "b = 4\n",
        "result = a - b\n",
        "print(result)  # Output: 6\n",
        "```\n",
        "#### 3. Multiplication\n",
        "```python\n",
        "a = 7\n",
        "b = 2\n",
        "result = a * b\n",
        "print(result)  # Output: 14\n",
        "```\n",
        "#### 4. Division\n",
        "```python\n",
        "a = 9\n",
        "b = 3\n",
        "result = a / b\n",
        "print(result)  # Output: 3.0\n",
        "```\n"
      ],
      "metadata": {
        "id": "liVPnPH4NnKU"
      }
    },
    {
      "cell_type": "code",
      "execution_count": 1,
      "metadata": {
        "colab": {
          "base_uri": "https://localhost:8080/"
        },
        "id": "lIYdn1woOS1n",
        "outputId": "bfdcc5f7-ff40-4780-edf9-3823dc799101"
      },
      "outputs": [
        {
          "output_type": "execute_result",
          "data": {
            "text/plain": [
              "17"
            ]
          },
          "metadata": {},
          "execution_count": 1
        }
      ],
      "source": [
        "#This a simple arithmetic expression to mutiply then add integers\n",
        " (3*4)+5"
      ]
    },
    {
      "cell_type": "code",
      "source": [
        "#This will convert 200 minutes to hours by diving by 60\n",
        "\n",
        "m = 200\n",
        "h = m / 60\n",
        "print(h)"
      ],
      "metadata": {
        "colab": {
          "base_uri": "https://localhost:8080/"
        },
        "id": "mAvkIwkTP5rC",
        "outputId": "1543930d-3774-4910-c03b-a2caaf09d478"
      },
      "execution_count": 2,
      "outputs": [
        {
          "output_type": "stream",
          "name": "stdout",
          "text": [
            "3.3333333333333335\n"
          ]
        }
      ]
    },
    {
      "cell_type": "markdown",
      "source": [
        "## Author\n",
        "Abu Sadat"
      ],
      "metadata": {
        "id": "Ie2lARDlRLe6"
      }
    }
  ],
  "metadata": {
    "colab": {
      "name": "scratchpad",
      "provenance": [],
      "include_colab_link": true
    },
    "kernelspec": {
      "display_name": "Python 3",
      "name": "python3"
    }
  },
  "nbformat": 4,
  "nbformat_minor": 0
}